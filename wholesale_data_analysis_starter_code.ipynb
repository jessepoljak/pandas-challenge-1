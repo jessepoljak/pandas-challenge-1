{
 "cells": [
  {
   "cell_type": "markdown",
   "id": "dc0318d6",
   "metadata": {},
   "source": [
    "## Part 1: Explore the Data\n",
    "\n",
    "Import the data and use Pandas to learn more about the dataset."
   ]
  },
  {
   "cell_type": "code",
   "execution_count": 37,
   "id": "e076f57f",
   "metadata": {},
   "outputs": [
    {
     "data": {
      "text/html": [
       "<div>\n",
       "<style scoped>\n",
       "    .dataframe tbody tr th:only-of-type {\n",
       "        vertical-align: middle;\n",
       "    }\n",
       "\n",
       "    .dataframe tbody tr th {\n",
       "        vertical-align: top;\n",
       "    }\n",
       "\n",
       "    .dataframe thead th {\n",
       "        text-align: right;\n",
       "    }\n",
       "</style>\n",
       "<table border=\"1\" class=\"dataframe\">\n",
       "  <thead>\n",
       "    <tr style=\"text-align: right;\">\n",
       "      <th></th>\n",
       "      <th>first</th>\n",
       "      <th>last</th>\n",
       "      <th>job</th>\n",
       "      <th>phone</th>\n",
       "      <th>email</th>\n",
       "      <th>client_id</th>\n",
       "      <th>order_id</th>\n",
       "      <th>order_date</th>\n",
       "      <th>order_week</th>\n",
       "      <th>order_year</th>\n",
       "      <th>item_id</th>\n",
       "      <th>category</th>\n",
       "      <th>subcategory</th>\n",
       "      <th>unit_price</th>\n",
       "      <th>unit_cost</th>\n",
       "      <th>unit_weight</th>\n",
       "      <th>qty</th>\n",
       "      <th>line_number</th>\n",
       "    </tr>\n",
       "  </thead>\n",
       "  <tbody>\n",
       "    <tr>\n",
       "      <th>0</th>\n",
       "      <td>Donald</td>\n",
       "      <td>Harding</td>\n",
       "      <td>Immunologist</td>\n",
       "      <td>793-904-7725x39308</td>\n",
       "      <td>harding.donald.7185@sullivan.com</td>\n",
       "      <td>58515</td>\n",
       "      <td>8953482</td>\n",
       "      <td>2023-04-28</td>\n",
       "      <td>17</td>\n",
       "      <td>2023</td>\n",
       "      <td>EUD29711-63-6U</td>\n",
       "      <td>decor</td>\n",
       "      <td>wall art</td>\n",
       "      <td>1096.80</td>\n",
       "      <td>762.71</td>\n",
       "      <td>7.50</td>\n",
       "      <td>105</td>\n",
       "      <td>1</td>\n",
       "    </tr>\n",
       "    <tr>\n",
       "      <th>1</th>\n",
       "      <td>Tiffany</td>\n",
       "      <td>Myers</td>\n",
       "      <td>Music therapist</td>\n",
       "      <td>201.442.4543x942</td>\n",
       "      <td>myers.t.6537@ferguson-johnson.net</td>\n",
       "      <td>37609</td>\n",
       "      <td>8069089</td>\n",
       "      <td>2023-05-19</td>\n",
       "      <td>20</td>\n",
       "      <td>2023</td>\n",
       "      <td>XDA18116-89-4A</td>\n",
       "      <td>consumables</td>\n",
       "      <td>pens</td>\n",
       "      <td>24.95</td>\n",
       "      <td>15.09</td>\n",
       "      <td>1.49</td>\n",
       "      <td>21</td>\n",
       "      <td>0</td>\n",
       "    </tr>\n",
       "    <tr>\n",
       "      <th>2</th>\n",
       "      <td>Shannon</td>\n",
       "      <td>Watson</td>\n",
       "      <td>Immunologist</td>\n",
       "      <td>687.737.9424x8503</td>\n",
       "      <td>swatson8146@payne.net</td>\n",
       "      <td>57113</td>\n",
       "      <td>1902144</td>\n",
       "      <td>2023-01-29</td>\n",
       "      <td>4</td>\n",
       "      <td>2023</td>\n",
       "      <td>ABE59463-05-7E</td>\n",
       "      <td>software</td>\n",
       "      <td>project management</td>\n",
       "      <td>13.52</td>\n",
       "      <td>7.86</td>\n",
       "      <td>1.68</td>\n",
       "      <td>39</td>\n",
       "      <td>6</td>\n",
       "    </tr>\n",
       "    <tr>\n",
       "      <th>3</th>\n",
       "      <td>Nathan</td>\n",
       "      <td>Baker</td>\n",
       "      <td>Accounting technician</td>\n",
       "      <td>827-788-8123x012</td>\n",
       "      <td>bakernathan@benson.com</td>\n",
       "      <td>46554</td>\n",
       "      <td>9031802</td>\n",
       "      <td>2023-04-25</td>\n",
       "      <td>17</td>\n",
       "      <td>2023</td>\n",
       "      <td>ZMM00836-65-0C</td>\n",
       "      <td>consumables</td>\n",
       "      <td>pens</td>\n",
       "      <td>36.42</td>\n",
       "      <td>24.85</td>\n",
       "      <td>1.23</td>\n",
       "      <td>29</td>\n",
       "      <td>3</td>\n",
       "    </tr>\n",
       "    <tr>\n",
       "      <th>4</th>\n",
       "      <td>Christina</td>\n",
       "      <td>Schwartz</td>\n",
       "      <td>Chiropractor</td>\n",
       "      <td>265-829-3643</td>\n",
       "      <td>christinaschwartz9252@mcconnell.com</td>\n",
       "      <td>92089</td>\n",
       "      <td>1322274</td>\n",
       "      <td>2023-05-28</td>\n",
       "      <td>21</td>\n",
       "      <td>2023</td>\n",
       "      <td>BZX55559-12-3X</td>\n",
       "      <td>consumables</td>\n",
       "      <td>misc</td>\n",
       "      <td>195.10</td>\n",
       "      <td>108.17</td>\n",
       "      <td>46.43</td>\n",
       "      <td>20</td>\n",
       "      <td>1</td>\n",
       "    </tr>\n",
       "  </tbody>\n",
       "</table>\n",
       "</div>"
      ],
      "text/plain": [
       "       first      last                    job               phone  \\\n",
       "0     Donald   Harding           Immunologist  793-904-7725x39308   \n",
       "1    Tiffany     Myers        Music therapist    201.442.4543x942   \n",
       "2    Shannon    Watson           Immunologist   687.737.9424x8503   \n",
       "3     Nathan     Baker  Accounting technician    827-788-8123x012   \n",
       "4  Christina  Schwartz           Chiropractor        265-829-3643   \n",
       "\n",
       "                                 email  client_id  order_id  order_date  \\\n",
       "0     harding.donald.7185@sullivan.com      58515   8953482  2023-04-28   \n",
       "1    myers.t.6537@ferguson-johnson.net      37609   8069089  2023-05-19   \n",
       "2                swatson8146@payne.net      57113   1902144  2023-01-29   \n",
       "3               bakernathan@benson.com      46554   9031802  2023-04-25   \n",
       "4  christinaschwartz9252@mcconnell.com      92089   1322274  2023-05-28   \n",
       "\n",
       "   order_week  order_year         item_id     category         subcategory  \\\n",
       "0          17        2023  EUD29711-63-6U        decor            wall art   \n",
       "1          20        2023  XDA18116-89-4A  consumables                pens   \n",
       "2           4        2023  ABE59463-05-7E     software  project management   \n",
       "3          17        2023  ZMM00836-65-0C  consumables                pens   \n",
       "4          21        2023  BZX55559-12-3X  consumables                misc   \n",
       "\n",
       "   unit_price  unit_cost  unit_weight  qty  line_number  \n",
       "0     1096.80     762.71         7.50  105            1  \n",
       "1       24.95      15.09         1.49   21            0  \n",
       "2       13.52       7.86         1.68   39            6  \n",
       "3       36.42      24.85         1.23   29            3  \n",
       "4      195.10     108.17        46.43   20            1  "
      ]
     },
     "execution_count": 37,
     "metadata": {},
     "output_type": "execute_result"
    }
   ],
   "source": [
    "import pandas as pd\n",
    "\n",
    "import numpy as np\n",
    "\n",
    "df = pd.read_csv('client_dataset.csv')\n",
    "df.head()"
   ]
  },
  {
   "cell_type": "code",
   "execution_count": 8,
   "id": "71b9bbd2",
   "metadata": {},
   "outputs": [
    {
     "data": {
      "text/plain": [
       "Index(['first', 'last', 'job', 'phone', 'email', 'client_id', 'order_id',\n",
       "       'order_date', 'order_week', 'order_year', 'item_id', 'category',\n",
       "       'subcategory', 'unit_price', 'unit_cost', 'unit_weight', 'qty',\n",
       "       'line_number'],\n",
       "      dtype='object')"
      ]
     },
     "execution_count": 8,
     "metadata": {},
     "output_type": "execute_result"
    }
   ],
   "source": [
    "# View the column names in the data\n",
    "df.columns"
   ]
  },
  {
   "cell_type": "code",
   "execution_count": 7,
   "id": "bc0f4172",
   "metadata": {},
   "outputs": [
    {
     "data": {
      "text/html": [
       "<div>\n",
       "<style scoped>\n",
       "    .dataframe tbody tr th:only-of-type {\n",
       "        vertical-align: middle;\n",
       "    }\n",
       "\n",
       "    .dataframe tbody tr th {\n",
       "        vertical-align: top;\n",
       "    }\n",
       "\n",
       "    .dataframe thead th {\n",
       "        text-align: right;\n",
       "    }\n",
       "</style>\n",
       "<table border=\"1\" class=\"dataframe\">\n",
       "  <thead>\n",
       "    <tr style=\"text-align: right;\">\n",
       "      <th></th>\n",
       "      <th>client_id</th>\n",
       "      <th>order_id</th>\n",
       "      <th>order_week</th>\n",
       "      <th>order_year</th>\n",
       "      <th>unit_price</th>\n",
       "      <th>unit_cost</th>\n",
       "      <th>unit_weight</th>\n",
       "      <th>qty</th>\n",
       "      <th>line_number</th>\n",
       "    </tr>\n",
       "  </thead>\n",
       "  <tbody>\n",
       "    <tr>\n",
       "      <th>count</th>\n",
       "      <td>54639.000000</td>\n",
       "      <td>5.463900e+04</td>\n",
       "      <td>54639.000000</td>\n",
       "      <td>54639.000000</td>\n",
       "      <td>54639.000000</td>\n",
       "      <td>54639.000000</td>\n",
       "      <td>54639.000000</td>\n",
       "      <td>5.463900e+04</td>\n",
       "      <td>54639.000000</td>\n",
       "    </tr>\n",
       "    <tr>\n",
       "      <th>mean</th>\n",
       "      <td>54837.869416</td>\n",
       "      <td>5.470190e+06</td>\n",
       "      <td>11.359139</td>\n",
       "      <td>2022.993064</td>\n",
       "      <td>136.267207</td>\n",
       "      <td>99.446073</td>\n",
       "      <td>5.004116</td>\n",
       "      <td>5.702646e+02</td>\n",
       "      <td>2.979667</td>\n",
       "    </tr>\n",
       "    <tr>\n",
       "      <th>std</th>\n",
       "      <td>25487.438231</td>\n",
       "      <td>2.599807e+06</td>\n",
       "      <td>7.023499</td>\n",
       "      <td>0.082997</td>\n",
       "      <td>183.873135</td>\n",
       "      <td>133.164267</td>\n",
       "      <td>5.326599</td>\n",
       "      <td>1.879552e+04</td>\n",
       "      <td>2.436320</td>\n",
       "    </tr>\n",
       "    <tr>\n",
       "      <th>min</th>\n",
       "      <td>10033.000000</td>\n",
       "      <td>1.000886e+06</td>\n",
       "      <td>1.000000</td>\n",
       "      <td>2022.000000</td>\n",
       "      <td>0.010000</td>\n",
       "      <td>0.010000</td>\n",
       "      <td>0.000000</td>\n",
       "      <td>0.000000e+00</td>\n",
       "      <td>0.000000</td>\n",
       "    </tr>\n",
       "    <tr>\n",
       "      <th>25%</th>\n",
       "      <td>33593.000000</td>\n",
       "      <td>3.196372e+06</td>\n",
       "      <td>6.000000</td>\n",
       "      <td>2023.000000</td>\n",
       "      <td>20.800000</td>\n",
       "      <td>14.840000</td>\n",
       "      <td>1.450000</td>\n",
       "      <td>3.200000e+01</td>\n",
       "      <td>1.000000</td>\n",
       "    </tr>\n",
       "    <tr>\n",
       "      <th>50%</th>\n",
       "      <td>53305.000000</td>\n",
       "      <td>5.496966e+06</td>\n",
       "      <td>11.000000</td>\n",
       "      <td>2023.000000</td>\n",
       "      <td>68.310000</td>\n",
       "      <td>49.890000</td>\n",
       "      <td>3.240000</td>\n",
       "      <td>6.800000e+01</td>\n",
       "      <td>3.000000</td>\n",
       "    </tr>\n",
       "    <tr>\n",
       "      <th>75%</th>\n",
       "      <td>78498.000000</td>\n",
       "      <td>7.733869e+06</td>\n",
       "      <td>17.000000</td>\n",
       "      <td>2023.000000</td>\n",
       "      <td>173.160000</td>\n",
       "      <td>125.570000</td>\n",
       "      <td>6.890000</td>\n",
       "      <td>1.700000e+02</td>\n",
       "      <td>5.000000</td>\n",
       "    </tr>\n",
       "    <tr>\n",
       "      <th>max</th>\n",
       "      <td>99984.000000</td>\n",
       "      <td>9.998480e+06</td>\n",
       "      <td>52.000000</td>\n",
       "      <td>2023.000000</td>\n",
       "      <td>1396.230000</td>\n",
       "      <td>846.270000</td>\n",
       "      <td>46.430000</td>\n",
       "      <td>3.958244e+06</td>\n",
       "      <td>9.000000</td>\n",
       "    </tr>\n",
       "  </tbody>\n",
       "</table>\n",
       "</div>"
      ],
      "text/plain": [
       "          client_id      order_id    order_week    order_year    unit_price  \\\n",
       "count  54639.000000  5.463900e+04  54639.000000  54639.000000  54639.000000   \n",
       "mean   54837.869416  5.470190e+06     11.359139   2022.993064    136.267207   \n",
       "std    25487.438231  2.599807e+06      7.023499      0.082997    183.873135   \n",
       "min    10033.000000  1.000886e+06      1.000000   2022.000000      0.010000   \n",
       "25%    33593.000000  3.196372e+06      6.000000   2023.000000     20.800000   \n",
       "50%    53305.000000  5.496966e+06     11.000000   2023.000000     68.310000   \n",
       "75%    78498.000000  7.733869e+06     17.000000   2023.000000    173.160000   \n",
       "max    99984.000000  9.998480e+06     52.000000   2023.000000   1396.230000   \n",
       "\n",
       "          unit_cost   unit_weight           qty   line_number  \n",
       "count  54639.000000  54639.000000  5.463900e+04  54639.000000  \n",
       "mean      99.446073      5.004116  5.702646e+02      2.979667  \n",
       "std      133.164267      5.326599  1.879552e+04      2.436320  \n",
       "min        0.010000      0.000000  0.000000e+00      0.000000  \n",
       "25%       14.840000      1.450000  3.200000e+01      1.000000  \n",
       "50%       49.890000      3.240000  6.800000e+01      3.000000  \n",
       "75%      125.570000      6.890000  1.700000e+02      5.000000  \n",
       "max      846.270000     46.430000  3.958244e+06      9.000000  "
      ]
     },
     "execution_count": 7,
     "metadata": {},
     "output_type": "execute_result"
    }
   ],
   "source": [
    "# Use the describe function to gather some basic statistics\n",
    "df.describe()"
   ]
  },
  {
   "cell_type": "code",
   "execution_count": 11,
   "id": "b24b53cc",
   "metadata": {},
   "outputs": [
    {
     "name": "stdout",
     "output_type": "stream",
     "text": [
      "498\n"
     ]
    }
   ],
   "source": [
    "# Use this space to do any additional research\n",
    "# and familiarize yourself with the data.\n",
    "unique_jobs = df['job'].nunique()\n",
    "print(unique_jobs)"
   ]
  },
  {
   "cell_type": "code",
   "execution_count": 17,
   "id": "551cb358",
   "metadata": {},
   "outputs": [
    {
     "data": {
      "text/plain": [
       "category\n",
       "consumables    23538\n",
       "furniture      11915\n",
       "software        8400\n",
       "Name: count, dtype: int64"
      ]
     },
     "execution_count": 17,
     "metadata": {},
     "output_type": "execute_result"
    }
   ],
   "source": [
    "# What three item categories had the most entries?\n",
    "category_counts = df['category'].value_counts().sort_values(ascending=False)\n",
    "#print(category_counts)\n",
    "category_counts.head(3)"
   ]
  },
  {
   "cell_type": "code",
   "execution_count": 22,
   "id": "5f54e2cf",
   "metadata": {},
   "outputs": [
    {
     "data": {
      "text/plain": [
       "subcategory\n",
       "bathroom supplies    6424\n",
       "Name: count, dtype: int64"
      ]
     },
     "execution_count": 22,
     "metadata": {},
     "output_type": "execute_result"
    }
   ],
   "source": [
    "# For the category with the most entries, which subcategory had the most entries?\n",
    "df_consumables = df[df['category']=='consumables']\n",
    "# print(df_consumables.head())\n",
    "\n",
    "subcategory_counts = df_consumables['subcategory'].value_counts().sort_values(ascending=False)\n",
    "# print(subcategory_counts)\n",
    "\n",
    "# top_consumable_subcategory = subcategory_counts.max()\n",
    "\n",
    "# print(top_consumable_subcategory)\n",
    "\n",
    "subcategory_counts.head(1)"
   ]
  },
  {
   "cell_type": "code",
   "execution_count": 26,
   "id": "2db94379",
   "metadata": {},
   "outputs": [
    {
     "data": {
      "text/plain": [
       "client_id\n",
       "33615    220\n",
       "66037    211\n",
       "46820    209\n",
       "38378    207\n",
       "24741    207\n",
       "Name: count, dtype: int64"
      ]
     },
     "execution_count": 26,
     "metadata": {},
     "output_type": "execute_result"
    }
   ],
   "source": [
    "# Which five clients had the most entries in the data?\n",
    "client_counts = df['client_id'].value_counts().sort_values(ascending=False)\n",
    "#print(category_counts)\n",
    "client_counts.head(5)"
   ]
  },
  {
   "cell_type": "code",
   "execution_count": 25,
   "id": "a6635601",
   "metadata": {},
   "outputs": [
    {
     "name": "stdout",
     "output_type": "stream",
     "text": [
      "[33615, 66037, 46820, 38378, 24741]\n"
     ]
    }
   ],
   "source": [
    "# Store the client ids of those top 5 clients in a list.\n",
    "top_5_clients = client_counts.head(5).index.tolist()\n",
    "print(top_5_clients)"
   ]
  },
  {
   "cell_type": "code",
   "execution_count": 29,
   "id": "c88b8a3e",
   "metadata": {},
   "outputs": [
    {
     "name": "stdout",
     "output_type": "stream",
     "text": [
      "64313\n"
     ]
    }
   ],
   "source": [
    "# How many total units (the qty column) did the client with the most entries order order?\n",
    "top_client = df[df['client_id'] == 33615]\n",
    "\n",
    "top_client_units = top_client['qty'].sum()\n",
    "\n",
    "print(top_client_units)"
   ]
  },
  {
   "cell_type": "markdown",
   "id": "257fcd7d",
   "metadata": {},
   "source": [
    "## Part 2: Transform the Data\n",
    "Do we know that this client spent the more money than client 66037? If not, how would we find out? Transform the data using the steps below to prepare it for analysis."
   ]
  },
  {
   "cell_type": "code",
   "execution_count": 65,
   "id": "0c25c4a8",
   "metadata": {},
   "outputs": [
    {
     "name": "stdout",
     "output_type": "stream",
     "text": [
      "client_id\n",
      "33615    5839032.11\n",
      "66037    7995708.38\n",
      "Name: subtotal, dtype: float64\n"
     ]
    }
   ],
   "source": [
    "# Create a column that calculates the subtotal for each line using the unit_price and the qty\n",
    "df['subtotal'] = df['unit_price'] * df['qty']\n",
    "# print(df.head())\n",
    "\n",
    "compare_clients = df[df['client_id'].isin([66037,33615])]\n",
    "compare_clients_price = compare_clients.groupby('client_id')['subtotal'].sum()\n",
    "print(compare_clients_price)"
   ]
  },
  {
   "cell_type": "code",
   "execution_count": 71,
   "id": "ac9dafc8",
   "metadata": {},
   "outputs": [
    {
     "name": "stdout",
     "output_type": "stream",
     "text": [
      "       first      last                    job               phone  \\\n",
      "0     Donald   Harding           Immunologist  793-904-7725x39308   \n",
      "1    Tiffany     Myers        Music therapist    201.442.4543x942   \n",
      "2    Shannon    Watson           Immunologist   687.737.9424x8503   \n",
      "3     Nathan     Baker  Accounting technician    827-788-8123x012   \n",
      "4  Christina  Schwartz           Chiropractor        265-829-3643   \n",
      "\n",
      "                                 email  client_id  order_id  order_date  \\\n",
      "0     harding.donald.7185@sullivan.com      58515   8953482  2023-04-28   \n",
      "1    myers.t.6537@ferguson-johnson.net      37609   8069089  2023-05-19   \n",
      "2                swatson8146@payne.net      57113   1902144  2023-01-29   \n",
      "3               bakernathan@benson.com      46554   9031802  2023-04-25   \n",
      "4  christinaschwartz9252@mcconnell.com      92089   1322274  2023-05-28   \n",
      "\n",
      "   order_week  order_year  ... unit_cost unit_weight  qty  line_number  \\\n",
      "0          17        2023  ...    762.71        7.50  105            1   \n",
      "1          20        2023  ...     15.09        1.49   21            0   \n",
      "2           4        2023  ...      7.86        1.68   39            6   \n",
      "3          17        2023  ...     24.85        1.23   29            3   \n",
      "4          21        2023  ...    108.17       46.43   20            1   \n",
      "\n",
      "   shipping_price   subtotal    total_price  line_cost        profit  \\\n",
      "0         5512.50  115164.00  125898.607500   80159.55  45739.057500   \n",
      "1          312.90     523.95     588.693625     331.79    256.903625   \n",
      "2          458.64     527.28     594.407400     323.34    271.067400   \n",
      "3          356.70    1056.18    1167.314400     732.95    434.364400   \n",
      "4         6500.20    3902.00    4770.182750    2627.70   2142.482750   \n",
      "\n",
      "   total_weight  \n",
      "0        787.50  \n",
      "1         31.29  \n",
      "2         65.52  \n",
      "3         35.67  \n",
      "4        928.60  \n",
      "\n",
      "[5 rows x 24 columns]\n"
     ]
    }
   ],
   "source": [
    "# Create a column for shipping price.\n",
    "# Assume a shipping price of $7 per pound for orders over 50 pounds and $10 per pound for items 50 pounds or under.\n",
    "\n",
    "df['total_weight'] = df['unit_weight'] * df['qty']\n",
    "\n",
    "def calculate_shipping_price(total_weight):\n",
    "    if total_weight > 50:\n",
    "        return total_weight * 7\n",
    "    else:\n",
    "        return total_weight * 10\n",
    "\n",
    "df['shipping_price'] = df['total_weight'].apply(calculate_shipping_price)\n",
    "\n",
    "print(df.head())\n"
   ]
  },
  {
   "cell_type": "code",
   "execution_count": 72,
   "id": "77f42c67",
   "metadata": {},
   "outputs": [
    {
     "name": "stdout",
     "output_type": "stream",
     "text": [
      "    subtotal  shipping_price    total_price\n",
      "0  115164.00         5512.50  131839.076250\n",
      "1     523.95          312.90     914.258625\n",
      "2     527.28          458.64    1077.117600\n",
      "3    1056.18          356.70    1543.571400\n",
      "4    3902.00         6500.20   11364.403500\n"
     ]
    }
   ],
   "source": [
    "# Create a column for the total price using the subtotal and the shipping price along with a sales tax of 9.25%\n",
    "\n",
    "# df.rename(columns={'total_price': 'subtotal'}, inplace=True)\n",
    "\n",
    "df['total_price'] = (df['subtotal'] + df['shipping_price']) * 1.0925\n",
    "\n",
    "# print(df.head())\n",
    "\n",
    "print(df[['subtotal', 'shipping_price', 'total_price']].head())"
   ]
  },
  {
   "cell_type": "code",
   "execution_count": 73,
   "id": "c82ad275",
   "metadata": {},
   "outputs": [
    {
     "name": "stdout",
     "output_type": "stream",
     "text": [
      "       first      last                    job               phone  \\\n",
      "0     Donald   Harding           Immunologist  793-904-7725x39308   \n",
      "1    Tiffany     Myers        Music therapist    201.442.4543x942   \n",
      "2    Shannon    Watson           Immunologist   687.737.9424x8503   \n",
      "3     Nathan     Baker  Accounting technician    827-788-8123x012   \n",
      "4  Christina  Schwartz           Chiropractor        265-829-3643   \n",
      "\n",
      "                                 email  client_id  order_id  order_date  \\\n",
      "0     harding.donald.7185@sullivan.com      58515   8953482  2023-04-28   \n",
      "1    myers.t.6537@ferguson-johnson.net      37609   8069089  2023-05-19   \n",
      "2                swatson8146@payne.net      57113   1902144  2023-01-29   \n",
      "3               bakernathan@benson.com      46554   9031802  2023-04-25   \n",
      "4  christinaschwartz9252@mcconnell.com      92089   1322274  2023-05-28   \n",
      "\n",
      "   order_week  order_year  ... unit_cost unit_weight  qty  line_number  \\\n",
      "0          17        2023  ...    762.71        7.50  105            1   \n",
      "1          20        2023  ...     15.09        1.49   21            0   \n",
      "2           4        2023  ...      7.86        1.68   39            6   \n",
      "3          17        2023  ...     24.85        1.23   29            3   \n",
      "4          21        2023  ...    108.17       46.43   20            1   \n",
      "\n",
      "   shipping_price   subtotal    total_price  line_cost        profit  \\\n",
      "0         5512.50  115164.00  131839.076250   85597.05  45739.057500   \n",
      "1          312.90     523.95     914.258625     629.79    256.903625   \n",
      "2          458.64     527.28    1077.117600     765.18    271.067400   \n",
      "3          356.70    1056.18    1543.571400    1077.35    434.364400   \n",
      "4         6500.20    3902.00   11364.403500    8663.60   2142.482750   \n",
      "\n",
      "   total_weight  \n",
      "0        787.50  \n",
      "1         31.29  \n",
      "2         65.52  \n",
      "3         35.67  \n",
      "4        928.60  \n",
      "\n",
      "[5 rows x 24 columns]\n"
     ]
    }
   ],
   "source": [
    "# Create a column for the cost of each line using unit cost, qty, and\n",
    "# shipping price (assume the shipping cost is exactly what is charged to the client).\n",
    "df['line_cost'] = df['unit_cost'] * df['qty'] + df['shipping_price']\n",
    "\n",
    "print(df.head(5))\n"
   ]
  },
  {
   "cell_type": "code",
   "execution_count": 74,
   "id": "e2389018",
   "metadata": {},
   "outputs": [
    {
     "name": "stdout",
     "output_type": "stream",
     "text": [
      "     total_price  line_cost        profit\n",
      "0  131839.076250   85597.05  46242.026250\n",
      "1     914.258625     629.79    284.468625\n",
      "2    1077.117600     765.18    311.937600\n",
      "3    1543.571400    1077.35    466.221400\n",
      "4   11364.403500    8663.60   2700.803500\n"
     ]
    }
   ],
   "source": [
    "# Create a column for the profit of each line using line cost and line price\n",
    "df['profit'] = df['total_price'] - df['line_cost']\n",
    "\n",
    "print(df[['total_price', 'line_cost', 'profit']].head())\n"
   ]
  },
  {
   "cell_type": "markdown",
   "id": "ef6f62b1",
   "metadata": {},
   "source": [
    "## Part 3: Confirm your work\n",
    "You have email receipts showing that the total prices for 3 orders. Confirm that your calculations match the receipts. Remember, each order has multiple lines.\n",
    "\n",
    "Order ID 2742071 had a total price of \\$152,811.89\n",
    "\n",
    "Order ID 2173913 had a total price of \\$162,388.71\n",
    "\n",
    "Order ID 6128929 had a total price of \\$923,441.25\n"
   ]
  },
  {
   "cell_type": "code",
   "execution_count": 76,
   "id": "c0e5d68e",
   "metadata": {},
   "outputs": [
    {
     "name": "stdout",
     "output_type": "stream",
     "text": [
      "order_id\n",
      "2173913    162388.719300\n",
      "2742071    152811.897075\n",
      "6128929    923441.240450\n",
      "Name: total_price, dtype: float64\n"
     ]
    }
   ],
   "source": [
    "# Check your work using the totals above\n",
    "compare_orders = df[df['order_id'].isin([2742071,2173913,6128929])]\n",
    "compare_orders_price = compare_orders.groupby('order_id')['total_price'].sum()\n",
    "print(compare_orders_price)\n",
    "\n",
    "\n",
    "# check_order = df[df['order_id'].isin([2742071])]\n",
    "# print(check_order)\n"
   ]
  },
  {
   "cell_type": "markdown",
   "id": "b94d58ab",
   "metadata": {},
   "source": [
    "## Part 4: Summarize and Analyze\n",
    "Use the new columns with confirmed values to find the following information."
   ]
  },
  {
   "cell_type": "code",
   "execution_count": 84,
   "id": "7c005f34",
   "metadata": {},
   "outputs": [
    {
     "name": "stdout",
     "output_type": "stream",
     "text": [
      "client_id\n",
      "24741    8.226889e+07\n",
      "33615    8.377309e+06\n",
      "38378    1.290655e+07\n",
      "46820    9.743794e+06\n",
      "66037    1.025951e+07\n",
      "Name: total_price, dtype: float64\n"
     ]
    }
   ],
   "source": [
    "# How much did each of the top 5 clients by quantity spend? Check your work from Part 1 for client ids.\n",
    "top_5_spending = df[df['client_id'].isin(top_5_clients)].groupby('client_id')['total_price'].sum()\n",
    "print(top_5_spending)"
   ]
  },
  {
   "cell_type": "code",
   "execution_count": 110,
   "id": "81b6e4d2",
   "metadata": {},
   "outputs": [
    {
     "name": "stdout",
     "output_type": "stream",
     "text": [
      "              qty  shipping_price   total_price    line_cost        profit\n",
      "client_id                                                                 \n",
      "24741      239862      5126448.37  8.226889e+07  45688899.71  3.657999e+07\n",
      "33615       64313      1828984.89  8.377309e+06   6175313.91  2.201995e+06\n",
      "38378       73667      3429455.40  1.290655e+07   9634720.98  3.271830e+06\n",
      "46820       75768      1601448.84  9.743794e+06   7007191.64  2.736603e+06\n",
      "66037       43018      1395151.85  1.025951e+07   7004482.98  3.255032e+06\n"
     ]
    }
   ],
   "source": [
    "# Create a summary DataFrame showing the totals for the for the top 5 clients with the following information:\n",
    "# total units purchased, total shipping price, total revenue, and total profit. \n",
    "top_5_summary = df[df['client_id'].isin(top_5_clients)].groupby('client_id').agg({'qty':'sum','shipping_price':'sum','total_price':'sum','line_cost':'sum','profit':'sum'})\n",
    "print(top_5_summary)\n"
   ]
  },
  {
   "cell_type": "code",
   "execution_count": 111,
   "id": "7be02867",
   "metadata": {},
   "outputs": [
    {
     "name": "stdout",
     "output_type": "stream",
     "text": [
      "              qty Total Shipping Price (Millions) Total Revenue (Millions)  \\\n",
      "client_id                                                                    \n",
      "24741      239862                           $5.13                   $82.27   \n",
      "33615       64313                           $1.83                    $8.38   \n",
      "38378       73667                           $3.43                   $12.91   \n",
      "46820       75768                           $1.60                    $9.74   \n",
      "66037       43018                           $1.40                   $10.26   \n",
      "\n",
      "          Total Line Cost (Millions) Total Profit (Millions)  \n",
      "client_id                                                     \n",
      "24741                         $45.69                  $36.58  \n",
      "33615                          $6.18                   $2.20  \n",
      "38378                          $9.63                   $3.27  \n",
      "46820                          $7.01                   $2.74  \n",
      "66037                          $7.00                   $3.26  \n"
     ]
    },
    {
     "name": "stderr",
     "output_type": "stream",
     "text": [
      "C:\\Users\\Jesse Poljak\\AppData\\Local\\Temp\\ipykernel_21824\\162305421.py:11: FutureWarning: DataFrame.applymap has been deprecated. Use DataFrame.map instead.\n",
      "  top_5_summary[money_columns] = top_5_summary[money_columns].applymap(convert_to_millions)\n"
     ]
    }
   ],
   "source": [
    "# Format the data and rename the columns to names suitable for presentation.\n",
    "\n",
    "# Define the money columns. \n",
    "money_columns = ['shipping_price', 'total_price', 'line_cost', 'profit']\n",
    "\n",
    "# Define a function that converts a dollar amount to millions.\n",
    "def convert_to_millions(x):\n",
    "    return f\"${x/1_000_000:,.2f}\"\n",
    "\n",
    "# Apply the currency_format_millions function to only the money columns. \n",
    "top_5_summary[money_columns] = top_5_summary[money_columns].applymap(convert_to_millions)\n",
    "\n",
    "\n",
    "# Rename the columns to reflect the change in the money format. \n",
    "top_5_summary.rename(columns={\n",
    "    'shipping_price': 'Total Shipping Price (Millions)',\n",
    "    'total_price': 'Total Revenue (Millions)',\n",
    "    'line_cost': 'Total Line Cost (Millions)',\n",
    "    'profit': 'Total Profit (Millions)'\n",
    "}, inplace=True)\n",
    "\n",
    "print(top_5_summary)\n",
    "\n"
   ]
  },
  {
   "cell_type": "code",
   "execution_count": 112,
   "id": "8ead0986",
   "metadata": {},
   "outputs": [
    {
     "name": "stdout",
     "output_type": "stream",
     "text": [
      "              qty Total Shipping Price (Millions) Total Revenue (Millions)  \\\n",
      "client_id                                                                    \n",
      "24741      239862                           $5.13                   $82.27   \n",
      "38378       73667                           $3.43                   $12.91   \n",
      "66037       43018                           $1.40                   $10.26   \n",
      "46820       75768                           $1.60                    $9.74   \n",
      "33615       64313                           $1.83                    $8.38   \n",
      "\n",
      "          Total Line Cost (Millions) Total Profit (Millions)  \n",
      "client_id                                                     \n",
      "24741                         $45.69                  $36.58  \n",
      "38378                          $9.63                   $3.27  \n",
      "66037                          $7.00                   $3.26  \n",
      "46820                          $7.01                   $2.74  \n",
      "33615                          $6.18                   $2.20  \n"
     ]
    }
   ],
   "source": [
    "# Sort the updated data by \"Total Profit (millions)\" form highest to lowest and assign the sort to a new DatFrame.\n",
    "top_5_sorted = top_5_summary.sort_values(by='Total Profit (Millions)', ascending = False)\n",
    "print(top_5_sorted)"
   ]
  },
  {
   "cell_type": "code",
   "execution_count": null,
   "id": "87e0e7f8-b60e-4e50-ab07-c36b6deed513",
   "metadata": {},
   "outputs": [],
   "source": [
    "#Summary\n",
    "#Largely due to the about 3 times higher quantity than the next largest client, client 24741 had by far the highest revenue and profit. Beyond that, they even have the highest profit margin, which is what really helps them blow the other clients out of the water at $37 million in profit. The next largest clients hover around $2-4 million in profit."
   ]
  }
 ],
 "metadata": {
  "kernelspec": {
   "display_name": "Python 3 (ipykernel)",
   "language": "python",
   "name": "python3"
  },
  "language_info": {
   "codemirror_mode": {
    "name": "ipython",
    "version": 3
   },
   "file_extension": ".py",
   "mimetype": "text/x-python",
   "name": "python",
   "nbconvert_exporter": "python",
   "pygments_lexer": "ipython3",
   "version": "3.12.4"
  }
 },
 "nbformat": 4,
 "nbformat_minor": 5
}
